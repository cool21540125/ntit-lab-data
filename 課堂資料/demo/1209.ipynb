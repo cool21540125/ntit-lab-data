{
 "cells": [
  {
   "cell_type": "code",
   "execution_count": 1,
   "metadata": {},
   "outputs": [],
   "source": [
    "jj = {\n",
    "    \"name\": \"周杰倫\",\n",
    "    \"wealthy\": \"200\",\n",
    "    \"cars\": [\"BMW\", \"posh\"]\n",
    "}"
   ]
  },
  {
   "cell_type": "code",
   "execution_count": null,
   "metadata": {},
   "outputs": [],
   "source": [
    "def powerful_function(x, y):\n",
    "    print((x ** 2 + y ** 2) ** 0.5)\n",
    "    return None"
   ]
  },
  {
   "cell_type": "code",
   "execution_count": 22,
   "metadata": {},
   "outputs": [
    {
     "name": "stdout",
     "output_type": "stream",
     "text": [
      "5.0\n",
      "None\n"
     ]
    }
   ],
   "source": [
    "aa = powerful_function(3, 4)\n",
    "print(aa)"
   ]
  },
  {
   "cell_type": "code",
   "execution_count": null,
   "metadata": {},
   "outputs": [],
   "source": [
    "names = [\"James\", \"Tina\", \"Dora\", 'Jue', \"Jennifier\", \"William\"]\n",
    "\n",
    "# J .\n",
    "# e .\n",
    "# n ..\n",
    "# i ..\n",
    "# f .\n",
    "# e .\n",
    "# r ."
   ]
  },
  {
   "cell_type": "code",
   "execution_count": 34,
   "metadata": {},
   "outputs": [
    {
     "name": "stdout",
     "output_type": "stream",
     "text": [
      "['James', 'Jue', 'Jennifier']\n"
     ]
    }
   ],
   "source": [
    "# 法1\n",
    "result = []\n",
    "for name in names:\n",
    "    if name.startswith(\"J\"):\n",
    "        result.append(name)\n",
    "\n",
    "print(result)"
   ]
  },
  {
   "cell_type": "code",
   "execution_count": null,
   "metadata": {},
   "outputs": [
    {
     "name": "stdout",
     "output_type": "stream",
     "text": [
      "['James', 'Jue', 'Jennifier']\n"
     ]
    }
   ],
   "source": [
    "# 法2 - list comprehension\n",
    "result2 = [name for name in names if name.startswith(\"J\")]\n",
    "\n",
    "print(result2)"
   ]
  },
  {
   "cell_type": "code",
   "execution_count": 44,
   "metadata": {},
   "outputs": [
    {
     "name": "stdout",
     "output_type": "stream",
     "text": [
      "['Jennifier', 'William']\n"
     ]
    }
   ],
   "source": [
    "\n",
    "result = []\n",
    "for name in names:\n",
    "    counter = {}\n",
    "    for ooxx in name:\n",
    "        if ooxx not in counter:\n",
    "            counter[ooxx] = 1\n",
    "        else:\n",
    "            result.append(name)\n",
    "            break\n",
    "\n",
    "print(result)"
   ]
  },
  {
   "cell_type": "code",
   "execution_count": 36,
   "metadata": {},
   "outputs": [
    {
     "name": "stdout",
     "output_type": "stream",
     "text": [
      "['Jennifier', 'William']\n"
     ]
    }
   ],
   "source": [
    "def has_two_repeated_chars(name):\n",
    "    char_count = {}\n",
    "    for char in name:\n",
    "        if char in char_count:\n",
    "            char_count[char] += 1\n",
    "        else:\n",
    "            char_count[char] = 1\n",
    "    # 檢查是否有任何字符出現兩次或更多次\n",
    "    return any(count >= 2 for count in char_count.values())\n",
    "\n",
    "# 篩選出名字中有兩個重複字母的人\n",
    "result = [name for name in names if has_two_repeated_chars(name)]\n",
    "print(result)"
   ]
  }
 ],
 "metadata": {
  "kernelspec": {
   "display_name": "Python 3",
   "language": "python",
   "name": "python3"
  },
  "language_info": {
   "codemirror_mode": {
    "name": "ipython",
    "version": 3
   },
   "file_extension": ".py",
   "mimetype": "text/x-python",
   "name": "python",
   "nbconvert_exporter": "python",
   "pygments_lexer": "ipython3",
   "version": "3.13.1"
  }
 },
 "nbformat": 4,
 "nbformat_minor": 2
}
