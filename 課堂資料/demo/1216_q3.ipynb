{
 "cells": [
  {
   "cell_type": "markdown",
   "metadata": {
    "vscode": {
     "languageId": "plaintext"
    }
   },
   "source": [
    "# 期中考 Question3"
   ]
  },
  {
   "cell_type": "code",
   "execution_count": 36,
   "metadata": {},
   "outputs": [],
   "source": [
    "import json\n",
    "\n",
    "with open(\"files/t187ap14_L.json\") as f:\n",
    "    data_raw = json.load(f)\n",
    "# data_raw"
   ]
  },
  {
   "cell_type": "code",
   "execution_count": 37,
   "metadata": {},
   "outputs": [
    {
     "name": "stdout",
     "output_type": "stream",
     "text": [
      "[{'產業別': '電子零組件業', '產業總營收': 478527714}, {'產業別': '半導體業', '產業總營收': 400108813}, {'產業別': '貿易百貨', '產業總營收': 251792830}]\n"
     ]
    }
   ],
   "source": [
    "### Solution 3a\n",
    "result0 = []\n",
    "tmp = {}\n",
    "total_revenue = 0\n",
    "for comp in data_raw:\n",
    "    if comp[\"產業別\"] not in tmp.keys():\n",
    "        tmp[comp[\"產業別\"]] = 0\n",
    "    rev = int(float(comp[\"營業收入\"]))\n",
    "    tmp[comp[\"產業別\"]] += rev\n",
    "    total_revenue += rev\n",
    "\n",
    "for ind, amt in tmp.items():\n",
    "    result0.append({\n",
    "        \"產業別\": ind,\n",
    "        \"產業總營收\": amt\n",
    "    })\n",
    "\n",
    "result3a = sorted(result0, key=lambda x: x[\"產業總營收\"], reverse=True)\n",
    "result3a = result3a[:3]\n",
    "print(result3a)"
   ]
  },
  {
   "cell_type": "code",
   "execution_count": 38,
   "metadata": {},
   "outputs": [
    {
     "name": "stdout",
     "output_type": "stream",
     "text": [
      "58.9%\n"
     ]
    }
   ],
   "source": [
    "### Solution 3b\n",
    "top3_revenue = 0\n",
    "for ind in result:\n",
    "    top3_revenue += ind[\"產業總營收\"]\n",
    "result3b = round(top3_revenue / total_revenue, 3)\n",
    "\n",
    "print(f\"{result3b*100}%\")"
   ]
  },
  {
   "cell_type": "code",
   "execution_count": null,
   "metadata": {},
   "outputs": [],
   "source": []
  }
 ],
 "metadata": {
  "kernelspec": {
   "display_name": ".venv",
   "language": "python",
   "name": "python3"
  },
  "language_info": {
   "codemirror_mode": {
    "name": "ipython",
    "version": 3
   },
   "file_extension": ".py",
   "mimetype": "text/x-python",
   "name": "python",
   "nbconvert_exporter": "python",
   "pygments_lexer": "ipython3",
   "version": "3.12.7"
  }
 },
 "nbformat": 4,
 "nbformat_minor": 2
}
