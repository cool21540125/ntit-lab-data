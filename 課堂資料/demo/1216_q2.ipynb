{
 "cells": [
  {
   "cell_type": "markdown",
   "metadata": {
    "vscode": {
     "languageId": "plaintext"
    }
   },
   "source": [
    "# 期中考 Question2"
   ]
  },
  {
   "cell_type": "code",
   "execution_count": 29,
   "metadata": {},
   "outputs": [],
   "source": [
    "import json\n",
    "with open(\"files/COA_OpenData.json\") as f:\n",
    "    data_raw = json.load(f)\n",
    "# data_raw"
   ]
  },
  {
   "cell_type": "code",
   "execution_count": 30,
   "metadata": {},
   "outputs": [
    {
     "name": "stdout",
     "output_type": "stream",
     "text": [
      "2350\n"
     ]
    }
   ],
   "source": [
    "### Solution 2a\n",
    "result_2a = 0\n",
    "for item in data_raw:\n",
    "    if item[\"連絡電話\"] == \"\" and item[\"EMail\"] == \"\":\n",
    "        result_2a += 1\n",
    "print(result_2a)"
   ]
  },
  {
   "cell_type": "code",
   "execution_count": 31,
   "metadata": {},
   "outputs": [
    {
     "name": "stdout",
     "output_type": "stream",
     "text": [
      "84\n"
     ]
    }
   ],
   "source": [
    "### Solution 2b\n",
    "result_2b = 0\n",
    "for item in data_raw:\n",
    "    if (\"臺北市\" in item[\"遺失地點\"] or \"台北市\" in item[\"遺失地點\"]) and item[\"遺失時間\"].split(\"/\")[0] == \"2023\":\n",
    "        result_2b += 1\n",
    "print(result_2b)"
   ]
  },
  {
   "cell_type": "code",
   "execution_count": 32,
   "metadata": {},
   "outputs": [
    {
     "name": "stdout",
     "output_type": "stream",
     "text": [
      "771\n"
     ]
    }
   ],
   "source": [
    "### Solution 2c\n",
    "result_2c = 0\n",
    "for item in data_raw:\n",
    "    if '白' in item[\"毛色\"] and item[\"品種\"] == \"混種貓\":\n",
    "        result_2c += 1\n",
    "print(result_2c)"
   ]
  },
  {
   "cell_type": "code",
   "execution_count": 33,
   "metadata": {},
   "outputs": [
    {
     "name": "stdout",
     "output_type": "stream",
     "text": [
      "1\n"
     ]
    }
   ],
   "source": [
    "### Solution 2d\n",
    "from collections import Counter\n",
    "\n",
    "tmp = []\n",
    "for item in data_raw:\n",
    "    tmp.append(str(int(item[\"遺失時間\"].split(\"/\")[1])))\n",
    "# print(tmp)\n",
    "\n",
    "most_common_month, number = Counter(tmp).most_common(1)[0]\n",
    "print(most_common_month)"
   ]
  },
  {
   "cell_type": "code",
   "execution_count": null,
   "metadata": {},
   "outputs": [],
   "source": []
  }
 ],
 "metadata": {
  "kernelspec": {
   "display_name": ".venv",
   "language": "python",
   "name": "python3"
  },
  "language_info": {
   "codemirror_mode": {
    "name": "ipython",
    "version": 3
   },
   "file_extension": ".py",
   "mimetype": "text/x-python",
   "name": "python",
   "nbconvert_exporter": "python",
   "pygments_lexer": "ipython3",
   "version": "3.12.7"
  }
 },
 "nbformat": 4,
 "nbformat_minor": 2
}
