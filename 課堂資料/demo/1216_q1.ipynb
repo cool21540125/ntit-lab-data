{
 "cells": [
  {
   "cell_type": "markdown",
   "metadata": {
    "vscode": {
     "languageId": "plaintext"
    }
   },
   "source": [
    "# 期中考 Question1"
   ]
  },
  {
   "cell_type": "code",
   "execution_count": 1,
   "metadata": {},
   "outputs": [],
   "source": [
    "with open(\"files/202408.csv\", encoding=\"utf-8-sig\") as f:\n",
    "    data08_raw = f.read()\n",
    "with open(\"files/202409.csv\", encoding=\"utf-8-sig\") as f:\n",
    "    data09_raw = f.read()\n",
    "data08 = data08_raw.split(\"\\n\")[1:-1]\n",
    "data09 = data09_raw.split(\"\\n\")[1:-1]\n",
    "\n",
    "data_all = data08 + data09\n",
    "# len(data_all)"
   ]
  },
  {
   "cell_type": "code",
   "execution_count": 2,
   "metadata": {},
   "outputs": [
    {
     "name": "stdout",
     "output_type": "stream",
     "text": [
      "[{'月份': 8, '總運量': 1296000}, {'月份': 9, '總運量': 1292465}]\n"
     ]
    }
   ],
   "source": [
    "### Solution 1a\n",
    "result1a = []\n",
    "result08 = {\"月份\": 8, \"總運量\": 0}\n",
    "result09 = {\"月份\": 9, \"總運量\": 0}\n",
    "for data in data08:\n",
    "    _id, _date, _day, _number, _data_time = data.split(\",\")\n",
    "    result08[\"總運量\"] += int(_number)\n",
    "for data in data09:\n",
    "    _id, _date, _day, _number, _data_time = data.split(\",\")\n",
    "    result09[\"總運量\"] += int(_number)\n",
    "result1a.append(result08)\n",
    "result1a.append(result09)\n",
    "\n",
    "print(result1a)"
   ]
  },
  {
   "cell_type": "code",
   "execution_count": 3,
   "metadata": {},
   "outputs": [
    {
     "name": "stdout",
     "output_type": "stream",
     "text": [
      "{'星期': '五', '日均運量': 50589}\n"
     ]
    }
   ],
   "source": [
    "### Solution 1b\n",
    "summary = {\n",
    "    \"星期日\": 0,\n",
    "    \"星期一\": 0,\n",
    "    \"星期二\": 0,\n",
    "    \"星期三\": 0,\n",
    "    \"星期四\": 0,\n",
    "    \"星期五\": 0,\n",
    "    \"星期六\": 0,\n",
    "}\n",
    "summary_count = {\n",
    "    \"星期日\": 0,\n",
    "    \"星期一\": 0,\n",
    "    \"星期二\": 0,\n",
    "    \"星期三\": 0,\n",
    "    \"星期四\": 0,\n",
    "    \"星期五\": 0,\n",
    "    \"星期六\": 0,\n",
    "}\n",
    "for data in data_all:\n",
    "    _id, _date, _day, _number, _data_time = data.split(\",\")\n",
    "    summary[_day] = summary[_day] + int(_number)\n",
    "    summary_count[_day] = summary_count[_day] + 1\n",
    "\n",
    "result = {}\n",
    "for index, weekday in enumerate(summary):\n",
    "    result[weekday] = round(summary[weekday] / summary_count[weekday])\n",
    "\n",
    "top1 = max(result, key=result.get)\n",
    "\n",
    "result1b = {\n",
    "    \"星期\": top1[-1],\n",
    "    \"日均運量\": result[top1]\n",
    "}\n",
    "\n",
    "print(result1b)"
   ]
  },
  {
   "cell_type": "code",
   "execution_count": null,
   "metadata": {},
   "outputs": [],
   "source": []
  }
 ],
 "metadata": {
  "kernelspec": {
   "display_name": ".venv",
   "language": "python",
   "name": "python3"
  },
  "language_info": {
   "codemirror_mode": {
    "name": "ipython",
    "version": 3
   },
   "file_extension": ".py",
   "mimetype": "text/x-python",
   "name": "python",
   "nbconvert_exporter": "python",
   "pygments_lexer": "ipython3",
   "version": "3.12.7"
  }
 },
 "nbformat": 4,
 "nbformat_minor": 2
}
