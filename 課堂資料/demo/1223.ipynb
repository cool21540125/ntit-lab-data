{
 "cells": [
  {
   "cell_type": "code",
   "execution_count": 16,
   "metadata": {},
   "outputs": [
    {
     "name": "stdout",
     "output_type": "stream",
     "text": [
      "FV = 110.00000000000001\n"
     ]
    }
   ],
   "source": [
    "pv = input(\"現值: \")\n",
    "r = input(\"利率: \")\n",
    "n = input(\"期數: \")\n",
    "\n",
    "try:\n",
    "    pv = int(pv)\n",
    "    r = float(r) / 100\n",
    "    n = int(n)\n",
    "except TypeError as err:\n",
    "    print(f\"你是不是搞錯了什麼? 請輸入數值!! {err}\")\n",
    "else:\n",
    "    fv = pv * (1 + r) ** n\n",
    "    print(f\"FV = {fv}\")"
   ]
  },
  {
   "cell_type": "code",
   "execution_count": 17,
   "metadata": {},
   "outputs": [
    {
     "name": "stdout",
     "output_type": "stream",
     "text": [
      "FV = 110.0\n"
     ]
    }
   ],
   "source": [
    "from decimal import Decimal\n",
    "\n",
    "pv = input(\"現值: \")\n",
    "r = input(\"利率: \")\n",
    "n = input(\"期數: \")\n",
    "\n",
    "try:\n",
    "    pv = int(pv)\n",
    "    r = Decimal(r) / 100\n",
    "    n = int(n)\n",
    "\n",
    "except TypeError as err:\n",
    "    print(f\"你是不是搞錯了什麼? 請輸入數值!! {err}\")\n",
    "else:\n",
    "    fv = pv * (1 + r) ** n\n",
    "    print(f\"FV = {fv}\")"
   ]
  }
 ],
 "metadata": {
  "kernelspec": {
   "display_name": "base",
   "language": "python",
   "name": "python3"
  },
  "language_info": {
   "codemirror_mode": {
    "name": "ipython",
    "version": 3
   },
   "file_extension": ".py",
   "mimetype": "text/x-python",
   "name": "python",
   "nbconvert_exporter": "python",
   "pygments_lexer": "ipython3",
   "version": "3.11.4"
  }
 },
 "nbformat": 4,
 "nbformat_minor": 2
}
