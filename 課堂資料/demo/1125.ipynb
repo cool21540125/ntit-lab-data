{
 "cells": [
  {
   "cell_type": "markdown",
   "metadata": {
    "vscode": {
     "languageId": "plaintext"
    }
   },
   "source": [
    "## 變數指派"
   ]
  },
  {
   "cell_type": "code",
   "execution_count": null,
   "metadata": {},
   "outputs": [],
   "source": [
    "a = 5\n",
    "b = 8\n",
    "\n",
    "print(a)\n",
    "\n",
    "c = a + b\n",
    "print(c)\n",
    "\n",
    "b = b - 2\n",
    "print(b)\n",
    "\n",
    "a = 1\n",
    "print(c - a)\n",
    "\n",
    "del a\n",
    "print(a)"
   ]
  },
  {
   "cell_type": "code",
   "execution_count": null,
   "metadata": {},
   "outputs": [],
   "source": [
    "name = \"Elon Musk\"\n",
    "\n",
    "print(name)\n",
    "\n",
    "print(\"%s 的財富, 加上我的零用錢, 足以撼動股市\" % name)\n",
    "\n",
    "print(f\"{name} 是 SpaceX 的老闆\")\n"
   ]
  },
  {
   "cell_type": "markdown",
   "metadata": {},
   "source": [
    "## Python 內建函式"
   ]
  },
  {
   "cell_type": "code",
   "execution_count": null,
   "metadata": {},
   "outputs": [],
   "source": [
    "print(abs(-100))\n",
    "\n",
    "print(max(1, 2, 3, 100, -200))\n",
    "\n",
    "print(max(-1, -8, 800, abs(-1000)))\n",
    "\n",
    "print(pow(10, 3))\n",
    "\n",
    "print(round(3.14159))\n",
    "\n",
    "print(round(3.14159, 2))"
   ]
  },
  {
   "cell_type": "markdown",
   "metadata": {},
   "source": [
    "## 選擇敘述\n",
    "\n",
    "- if\n",
    "- if ... else ...\n",
    "- if ... elif ... else\n",
    "- pass"
   ]
  },
  {
   "cell_type": "markdown",
   "metadata": {},
   "source": [
    "## 迴圈敘述\n",
    "\n",
    "- for ... in range\n",
    "- break\n",
    "- continue"
   ]
  },
  {
   "cell_type": "markdown",
   "metadata": {},
   "source": [
    "## 函式 (function / method)\n",
    "\n",
    "- 回傳值\n",
    "- 參數\n",
    "- 引數"
   ]
  },
  {
   "cell_type": "markdown",
   "metadata": {},
   "source": [
    "## 串列 / 字典 / 集合\n",
    "\n",
    "- list\n",
    "- dict\n",
    "- map"
   ]
  },
  {
   "cell_type": "markdown",
   "metadata": {},
   "source": [
    "## 讀取檔案 / 寫入檔案"
   ]
  }
 ],
 "metadata": {
  "kernelspec": {
   "display_name": ".venv",
   "language": "python",
   "name": "python3"
  },
  "language_info": {
   "codemirror_mode": {
    "name": "ipython",
    "version": 3
   },
   "file_extension": ".py",
   "mimetype": "text/x-python",
   "name": "python",
   "nbconvert_exporter": "python",
   "pygments_lexer": "ipython3",
   "version": "3.12.7"
  }
 },
 "nbformat": 4,
 "nbformat_minor": 2
}
