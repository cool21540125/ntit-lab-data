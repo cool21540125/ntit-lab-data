{
 "cells": [
  {
   "cell_type": "markdown",
   "metadata": {
    "vscode": {
     "languageId": "plaintext"
    }
   },
   "source": [
    "## 變數指派"
   ]
  },
  {
   "cell_type": "code",
   "execution_count": 46,
   "metadata": {},
   "outputs": [
    {
     "name": "stdout",
     "output_type": "stream",
     "text": [
      "13\n",
      "13\n"
     ]
    }
   ],
   "source": [
    "a = 5\n",
    "b = 8\n",
    "c = a + b\n",
    "print(c)\n",
    "\n",
    "d = 0\n",
    "d += c\n",
    "print(d)"
   ]
  },
  {
   "cell_type": "code",
   "execution_count": null,
   "metadata": {},
   "outputs": [
    {
     "name": "stdout",
     "output_type": "stream",
     "text": [
      "Elon Musk 的財富, 加上我的零用錢, 足以撼動股市\n",
      "Elon Musk 的財富, 加上我的零用錢, 足以撼動股市\n"
     ]
    }
   ],
   "source": [
    "name = \"Elon Musk\"\n",
    "\n",
    "print(\"%s 的財富, 加上我的零用錢, 足以撼動股市\" % name)\n",
    "print(f\"{name} 的財富, 加上我的零用錢, 足以撼動股市\")\n"
   ]
  },
  {
   "cell_type": "markdown",
   "metadata": {},
   "source": [
    "## Python 內建函式"
   ]
  },
  {
   "cell_type": "code",
   "execution_count": 32,
   "metadata": {},
   "outputs": [
    {
     "name": "stdout",
     "output_type": "stream",
     "text": [
      "100\n",
      "100\n",
      "1000\n",
      "10000\n",
      "3\n",
      "3.14\n"
     ]
    }
   ],
   "source": [
    "print(abs(-100))\n",
    "\n",
    "print(max(1, 2, 3, 100, -200))\n",
    "\n",
    "print(max(-1, -8, 800, abs(-1000)))\n",
    "\n",
    "print(pow(10, 4))\n",
    "\n",
    "print(round(3.14159))\n",
    "\n",
    "print(round(3.14159, 2))"
   ]
  },
  {
   "cell_type": "markdown",
   "metadata": {},
   "source": [
    "## 選擇敘述\n",
    "\n",
    "- if\n",
    "- if ... else ...\n",
    "- if ... elif ... else\n",
    "- pass"
   ]
  },
  {
   "cell_type": "code",
   "execution_count": null,
   "metadata": {},
   "outputs": [],
   "source": [
    "age = 17\n",
    "if age < 18:\n",
    "      pass\n",
    "elif age >= 18 and age < 20:\n",
    "    print(\"可以公投, 但不能投總統副總統立委縣市長\")\n",
    "else:\n",
    "    print(\"啥都可以幹\")"
   ]
  },
  {
   "cell_type": "markdown",
   "metadata": {},
   "source": [
    "## 迴圈敘述\n",
    "\n",
    "- for ... in range\n",
    "- while\n",
    "- break\n",
    "- continue"
   ]
  },
  {
   "cell_type": "markdown",
   "metadata": {},
   "source": [
    "## 函式 (function / method)\n",
    "\n",
    "- 回傳值\n",
    "- 參數\n",
    "- 引數"
   ]
  },
  {
   "cell_type": "code",
   "execution_count": 21,
   "metadata": {},
   "outputs": [
    {
     "data": {
      "text/plain": [
       "4"
      ]
     },
     "execution_count": 21,
     "metadata": {},
     "output_type": "execute_result"
    }
   ],
   "source": [
    "max(1, 2, 3,     abs(-4))"
   ]
  },
  {
   "cell_type": "markdown",
   "metadata": {},
   "source": [
    "## 串列 / 字典 / 集合\n",
    "\n",
    "- list\n",
    "- dictionary (dict)\n",
    "- map"
   ]
  },
  {
   "cell_type": "code",
   "execution_count": 45,
   "metadata": {},
   "outputs": [
    {
     "name": "stdout",
     "output_type": "stream",
     "text": [
      "60001\n"
     ]
    }
   ],
   "source": [
    "p1 = {\n",
    "    \"name\": \"Elon Musk\",\n",
    "    \"age\": 53,\n",
    "    \"wealthy\": 10000\n",
    "}\n",
    "p2 = {\n",
    "    \"name\": \"Gazz\",\n",
    "    \"age\": 60,\n",
    "    \"wealthy\": 20000\n",
    "}\n",
    "p3 = {\n",
    "    \"name\": \"Buffett\",\n",
    "    \"age\": 70,\n",
    "    \"wealthy\": 30000\n",
    "}\n",
    "p4 = {\n",
    "    \"name\": \"Tony\",\n",
    "    \"age\": 30,\n",
    "    \"wealthy\": 1\n",
    "}\n",
    "\n",
    "total_money = 0\n",
    "many_people = [p1, p2, p3, p4]\n",
    "for pp in many_people:\n",
    "    total_money = total_money + pp[\"wealthy\"]\n",
    "\n",
    "print(total_money)"
   ]
  },
  {
   "cell_type": "markdown",
   "metadata": {},
   "source": [
    "## 讀取檔案 / 寫入檔案"
   ]
  }
 ],
 "metadata": {
  "kernelspec": {
   "display_name": "base",
   "language": "python",
   "name": "python3"
  },
  "language_info": {
   "codemirror_mode": {
    "name": "ipython",
    "version": 3
   },
   "file_extension": ".py",
   "mimetype": "text/x-python",
   "name": "python",
   "nbconvert_exporter": "python",
   "pygments_lexer": "ipython3",
   "version": "3.11.4"
  }
 },
 "nbformat": 4,
 "nbformat_minor": 2
}
